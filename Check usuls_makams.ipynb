{
 "cells": [
  {
   "cell_type": "markdown",
   "metadata": {},
   "source": [
    "# Check if is executing on Google Colab\n",
    "If running on google colab download the repositories"
   ]
  },
  {
   "cell_type": "code",
   "execution_count": 2,
   "metadata": {},
   "outputs": [],
   "source": [
    "try:\n",
    "  import google.colab\n",
    "  !git clone recursive https://github.com/migperfer/AMPL-UPF-MSC\n",
    "  IN_COLAB = True\n",
    "except:\n",
    "  IN_COLAB = False"
   ]
  },
  {
   "cell_type": "markdown",
   "metadata": {},
   "source": [
    "# Import libraries"
   ]
  },
  {
   "cell_type": "code",
   "execution_count": 3,
   "metadata": {},
   "outputs": [
    {
     "name": "stderr",
     "output_type": "stream",
     "text": [
      "music21: Certain music21 functions might need the optional package matplotlib;\n",
      "                  if you run into errors, install it by following the instructions at\n",
      "                  http://mit.edu/music21/doc/installing/installAdditional.html\n"
     ]
    }
   ],
   "source": [
    "from music21 import *\n",
    "from music21.note import Note as noteclass\n",
    "from music21.chord import Chord as chordclass\n",
    "from music21.meter import TimeSignature as tsclass\n",
    "import os, glob, math"
   ]
  },
  {
   "cell_type": "markdown",
   "metadata": {},
   "source": [
    "# Creation of Usul related objects\n",
    "## Definition of the UsulStroke and Usul classes"
   ]
  },
  {
   "cell_type": "code",
   "execution_count": 20,
   "metadata": {},
   "outputs": [],
   "source": [
    "class UsulStroke:\n",
    "  def __init__(self, mnote, stroke, barduration):    \n",
    "    self.stroketype = stroke.content\n",
    "    self.duration = mnote.duration.quarterLength\n",
    "    self.offset = mnote.beat\n",
    "    self.barduration = barduration\n",
    "    self.compatoffset = float((mnote.beat - 1)/barduration)\n",
    "    if isinstance(mnote, chordclass):\n",
    "      self.hand = \"both\"\n",
    "    elif mnote.pitch.name == \"F\":\n",
    "      self.hand = \"right\"\n",
    "    elif mnote.pitch.name == \"D\":\n",
    "      self.hand = \"left\"\n",
    "    else:\n",
    "      self.hand = \"unknown\"\n",
    "\n",
    "  def __repr__(self):\n",
    "    return \"UsulStroke\"\n",
    "\n",
    "  def __str__(self):\n",
    "    return \"Stroke:%s, Duration:%s, Hand:%s, Offset:%s(%s)\" % (self.stroketype, self.duration, self.hand, self.compatoffset, type(self.compatoffset))\n",
    "\n",
    "class Usul:\n",
    "  def __init__(self, usulname, strokes, nbeats):\n",
    "    self.nbeats = nbeats\n",
    "    self.usul = usulname\n",
    "    self.strokes = strokes\n",
    "\n",
    "  @classmethod\n",
    "  def usul_from_file(cls, file):\n",
    "    nbeats = 0\n",
    "    score = converter.parse(file)\n",
    "    rhythm = score.getElementsByClass('Part')[0].getElementsByClass('Measure')[0]\n",
    "    notes = []\n",
    "    for element in rhythm:\n",
    "      if isinstance(element, (noteclass, chordclass)):\n",
    "        notes.append(element)\n",
    "      if isinstance(element, (tsclass)):\n",
    "        nbeats = element.beatCount\n",
    "        \n",
    "    strokes = rhythm.getElementsByClass('TextExpression')\n",
    "    usul_name = file.split('/')[-1].split('.mxl')[0].lower().replace('_', ' ')\n",
    "    strokes_list = []\n",
    "    for note in range(len(notes)):\n",
    "      strk = UsulStroke(notes[note], strokes[note], nbeats)\n",
    "      strokes_list.append(strk)\n",
    "    return cls(usul_name, strokes_list, nbeats)\n",
    "\n",
    "\n",
    "  def __iter__(self):\n",
    "    self.index = 0\n",
    "    return self\n",
    "\n",
    "  def __getitem__(self, idx):\n",
    "        return self.strokes[idx]\n",
    "\n",
    "  def __next__(self):\n",
    "    if self.index < len(self.strokes):\n",
    "      idx = self.index\n",
    "      self.index += 1\n",
    "      return self.strokes[idx]\n",
    "    else:\n",
    "      raise StopIteration\n",
    "\n",
    "  def _repr__(self):\n",
    "    return \"Usul\"\n",
    "  \n",
    "  def __str__(self):\n",
    "    return \"Usul Object: %s\" % (self.usul)"
   ]
  },
  {
   "cell_type": "markdown",
   "metadata": {},
   "source": [
    "## Load all existing usuls with the classes created in last cell\n",
    "\n",
    "We load all the usuls possible (the ones for which we have the scores), into the *usul_dict* dictionary"
   ]
  },
  {
   "cell_type": "code",
   "execution_count": 21,
   "metadata": {},
   "outputs": [],
   "source": [
    "if IN_COLAB:\n",
    "    usuls_files_list = glob.glob('./AMPL-UPF-MSC/scores/mxl/*.mxl')\n",
    "else:\n",
    "    usuls_files_list = glob.glob('./scores/mxl/*.mxl')\n",
    "\n",
    "usuls_dict = {}\n",
    "for usul_file in usuls_files_list:\n",
    "  usul_name = usul_file.split('/')[-1].split('.mxl')[0].lower().replace('_', ' ')\n",
    "  if '\\\\' in usul_name:  # Windows use \\ instead of /\n",
    "        usul_name = usul_name.split('\\\\')[-1]\n",
    "  usuls_dict[usul_name] = Usul.usul_from_file(usul_file)"
   ]
  },
  {
   "cell_type": "markdown",
   "metadata": {},
   "source": [
    "## Load all makams"
   ]
  },
  {
   "cell_type": "code",
   "execution_count": 6,
   "metadata": {},
   "outputs": [],
   "source": [
    "usuldict = {'sofyan':0,'duyek':1,'raksaksagi':2,'cenber':3,'hafif':4,'devrikebir':5,'muhammes':6,'turkaksagi':7,'oynak':8,'havi':9,'aksak':10,'yuruksemai':11,'berefsan':12,'aksaksemai':13,'fahte':14,'semai':15,'cifteduyek':16,'evfer':17}\n",
    "makamlist = ['hicaz','rast','nihavent','ussak','segah','huseyni','huzzam','mahur','kurdilihicazkar','muhayyer']\n",
    "makamdict = {makamlist[i]:i for i in range(len(makamlist))}\n",
    "\n",
    "rast = {'G': 1, 'A': 2, 'B':3,'C':4,'D':5,'E':6,'F':7,'Dom':'D5','Lead':'F4#'}\n",
    "huseyni = {'A': 1, 'B':2,'C':3,'D':4,'E':5,'F':6, 'G':7,'Dom':'E5','Lead':'G4'}\n",
    "muhayyer = {'A': 1, 'B':2,'C':3,'D':4,'E':5,'F':6, 'G':7,'Dom':'A5','sDom':'E5','Lead':'G4'}\n",
    "ussak = {'A': 1, 'B':2,'C':3,'D':4,'E':5,'F':6, 'G':7,'Dom':'D5','Lead':'G4'}\n",
    "hicaz = {'A': 1, 'B':2,'C':3,'D':4,'E':5,'F':6, 'G':7,'Dom':'D5','Lead':'G4'}\n",
    "huzzam = {'B':1,'C':2,'D':3,'E':4,'F':5, 'G':6,'A':7,'Dom':'D5','Lead':'A4#'}\n",
    "kurdilihicazkar = {'G': 1, 'A': 2, 'B':3,'C':4,'D':5,'E':6,'F':7,'Dom':'G5','Lead':'F4'} \n",
    "nihavent = {'G': 1, 'A': 2, 'B':3,'C':4,'D':5,'E':6,'F':7,'Dom':'D5','Lead':'F4#'}\n",
    "segah = {'B':1,'C':2,'D':3,'E':4,'F':5, 'G':6,'A':7,'Dom':'D5','Lead':'A4#'}\n",
    "mahur = {'G': 1, 'A': 2, 'B':3,'C':4,'D':5,'E':6,'F':7,'Dom':'G5','Lead':'F4#'}\n",
    "\n",
    "if IN_COLAB:\n",
    "    folder = 'AMPL-UPF-MSC/SymbTr/txt/'\n",
    "else:\n",
    "    folder = 'SymbTr/txt/'\n",
    "\n",
    "allScores = os.listdir(folder)\n",
    "\n",
    "def getDegree(note,makam):\n",
    "    significance = None\n",
    "    degree = eval(makam)[note[0]]\n",
    "    if degree == 1:\n",
    "        significance = 'Tonic'\n",
    "    if note[:2] == eval(makam)['Dom']:\n",
    "        significance = 'Dominant'\n",
    "    if note[:2] == eval(makam)['Lead']:\n",
    "        significance = 'Leading'    \n",
    "    return degree,significance\n",
    "\n",
    "scorelist = [[]]\n",
    "for u in range(len(usuldict)):\n",
    "    scorelist.append([])\n",
    "    for m in range(len(makamdict)):\n",
    "        scorelist[u].append([])\n",
    "        \n",
    "for file in allScores:\n",
    "    mak,_,us = file.split('--')[:3]\n",
    "    if mak not in makamdict or us not in usuldict:\n",
    "        continue\n",
    "    with open(folder + file, encoding=\"utf8\") as scoretxt:\n",
    "        try:\n",
    "            txtlines = scoretxt.read().split('\\n')\n",
    "        except UnicodeDecodeError as e:\n",
    "            print(\"Error in file: %s\" % file)\n",
    "            print(str(e))\n",
    "    for i in range(2,len(txtlines)-1):\n",
    "        if int(txtlines[i].split('\\t')[1])==51: # possible usul change, leave the rest\n",
    "            break\n",
    "        if int(txtlines[i].split('\\t')[6])>0:\n",
    "            dur = int(txtlines[i].split('\\t')[6])/int(txtlines[i].split('\\t')[7])\n",
    "            name = txtlines[i].split('\\t')[3]\n",
    "            degree, significance = getDegree(name,mak)\n",
    "            offset = txtlines[i].split('\\t')[-1]     \n",
    "            scorelist[usuldict[us]][makamdict[mak]].append([offset,dur,name,degree,significance])\n",
    "            "
   ]
  },
  {
   "cell_type": "markdown",
   "metadata": {},
   "source": [
    "## Function to analyze a makam using an usul object"
   ]
  },
  {
   "cell_type": "code",
   "execution_count": 23,
   "metadata": {},
   "outputs": [],
   "source": [
    "def analyze_makam(makam, usul):\n",
    "    coincidences = []\n",
    "    usul_onsets = []\n",
    "    for stroke in usul:\n",
    "        usul_onsets.append(stroke.compatoffset)  # Get the position of every stroke in this\n",
    "    onsets_indx = dict((k,i) for i,k in enumerate(usul_onsets))  # Store the index of every beat position\n",
    "    for bar in makam:\n",
    "        for note in makam:\n",
    "            beat, bar = math.modf(float(note[0]))  # Split the integer part and the decimal one\n",
    "            beat = beat - note[1]  # Substract the duration, to get the beat position\n",
    "            if beat in usul_onsets:\n",
    "                coinc_stroke = usul[onsets_indx[beat]]  # Get coincident stroke\n",
    "                coincidences.append((note, coinc_stroke))\n",
    "    return coincidences\n",
    "            \n",
    "a = analyze_makam(scorelist[usuldict['duyek']][makamdict['rast']], usuls_dict['düyek'])"
   ]
  }
 ],
 "metadata": {
  "kernelspec": {
   "display_name": "Python 3",
   "language": "python",
   "name": "python3"
  },
  "language_info": {
   "codemirror_mode": {
    "name": "ipython",
    "version": 3
   },
   "file_extension": ".py",
   "mimetype": "text/x-python",
   "name": "python",
   "nbconvert_exporter": "python",
   "pygments_lexer": "ipython3",
   "version": "3.7.1"
  },
  "varInspector": {
   "cols": {
    "lenName": 16,
    "lenType": 16,
    "lenVar": 40
   },
   "kernels_config": {
    "python": {
     "delete_cmd_postfix": "",
     "delete_cmd_prefix": "del ",
     "library": "var_list.py",
     "varRefreshCmd": "print(var_dic_list())"
    },
    "r": {
     "delete_cmd_postfix": ") ",
     "delete_cmd_prefix": "rm(",
     "library": "var_list.r",
     "varRefreshCmd": "cat(var_dic_list()) "
    }
   },
   "types_to_exclude": [
    "module",
    "function",
    "builtin_function_or_method",
    "instance",
    "_Feature"
   ],
   "window_display": false
  }
 },
 "nbformat": 4,
 "nbformat_minor": 2
}
