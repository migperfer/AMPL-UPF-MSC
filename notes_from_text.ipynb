{
 "cells": [
  {
   "cell_type": "code",
   "execution_count": 1,
   "metadata": {},
   "outputs": [],
   "source": [
    "import os"
   ]
  },
  {
   "cell_type": "code",
   "execution_count": 2,
   "metadata": {},
   "outputs": [],
   "source": [
    "usuldict = {'sofyan':0,'duyek':1,'raksaksagi':2,'cenber':3,'hafif':4,'devrikebir':5,'muhammes':6,'turkaksagi':7,'oynak':8,'havi':9,'aksak':10,'yuruksemai':11,'berefsan':12,'aksaksemai':13,'fahte':14,'semai':15,'cifteduyek':16,'evfer':17}"
   ]
  },
  {
   "cell_type": "code",
   "execution_count": 3,
   "metadata": {},
   "outputs": [],
   "source": [
    "# top 10 makams\n",
    "makamlist = ['hicaz','rast','nihavent','ussak','segah','huseyni','huzzam','mahur','kurdilihicazkar','muhayyer']\n",
    "makamdict = {makamlist[i]:i for i in range(len(makamlist))}"
   ]
  },
  {
   "cell_type": "code",
   "execution_count": 4,
   "metadata": {},
   "outputs": [
    {
     "data": {
      "text/plain": [
       "{'hicaz': 0,\n",
       " 'rast': 1,\n",
       " 'nihavent': 2,\n",
       " 'ussak': 3,\n",
       " 'segah': 4,\n",
       " 'huseyni': 5,\n",
       " 'huzzam': 6,\n",
       " 'mahur': 7,\n",
       " 'kurdilihicazkar': 8,\n",
       " 'muhayyer': 9}"
      ]
     },
     "execution_count": 4,
     "metadata": {},
     "output_type": "execute_result"
    }
   ],
   "source": [
    "makamdict"
   ]
  },
  {
   "cell_type": "code",
   "execution_count": 5,
   "metadata": {},
   "outputs": [],
   "source": [
    "folder = 'SymbTr-master/txt/'\n",
    "allScores = os.listdir(folder)"
   ]
  },
  {
   "cell_type": "code",
   "execution_count": 6,
   "metadata": {},
   "outputs": [],
   "source": [
    "scorelist = [[]]\n",
    "for u in range(len(usuldict)):\n",
    "    scorelist.append([])\n",
    "    for m in range(len(makamdict)):\n",
    "        scorelist[u].append([])\n",
    "        \n",
    "for file in allScores:\n",
    "    mak,_,us = file.split('--')[:3]\n",
    "    if mak not in makamdict or us not in usuldict:\n",
    "        continue\n",
    "    with open(folder + file) as scoretxt:\n",
    "        txtlines = scoretxt.read().split('\\n')\n",
    "    for i in range(2,len(txtlines)-1):\n",
    "        if int(txtlines[i].split('\\t')[1])==51: # possible usul change, leave the rest\n",
    "            break\n",
    "        if int(txtlines[i].split('\\t')[6])>0:\n",
    "            dur = int(txtlines[i].split('\\t')[6])/int(txtlines[i].split('\\t')[7])\n",
    "            name = txtlines[i].split('\\t')[3]\n",
    "            offset = txtlines[i].split('\\t')[-1]\n",
    "            scorelist[usuldict[us]][makamdict[mak]].append([offset,dur,name])\n",
    "#           if len(scorelist[0][0]) == 1341:\n",
    "#               print(file)"
   ]
  },
  {
   "cell_type": "code",
   "execution_count": 7,
   "metadata": {},
   "outputs": [],
   "source": [
    "# everytime offset value of a note is an integer, that note is the end of the measure\n",
    "# this is an example of how to get bars for usul 'sofyan', makam 'hicaz'\n",
    "bars = []\n",
    "bar = []\n",
    "for i in range(len(scorelist[0][0])):\n",
    "    if (float(scorelist[0][0][i][0])).is_integer():\n",
    "        bar.append(scorelist[0][0][i])\n",
    "        bars.append(bar)\n",
    "        bar = []\n",
    "#         if len(bars)==187:\n",
    "#             print(i)\n",
    "    else:\n",
    "        bar.append(scorelist[0][0][i])\n"
   ]
  },
  {
   "cell_type": "code",
   "execution_count": 8,
   "metadata": {},
   "outputs": [
    {
     "data": {
      "text/plain": [
       "[['5.125', 0.125, 'E5'],\n",
       " ['5.25', 0.125, 'D5'],\n",
       " ['5.375', 0.125, 'D5'],\n",
       " ['5.5', 0.125, 'C5#4'],\n",
       " ['5.625', 0.125, 'C5#4'],\n",
       " ['5.75', 0.125, 'B4b4'],\n",
       " ['6.0', 0.25, 'A4']]"
      ]
     },
     "execution_count": 8,
     "metadata": {},
     "output_type": "execute_result"
    }
   ],
   "source": [
    "bars[5]"
   ]
  },
  {
   "cell_type": "code",
   "execution_count": 9,
   "metadata": {},
   "outputs": [],
   "source": [
    "# run this for checking bars\n",
    "for i in range(len(bars)-1):\n",
    "    c = float(bars[i+1][-1][0])-float(bars[i][-1][0])\n",
    "    if c != 1 and c>0: # c=1 if next bar in list is actually the next bar, c<0 happens when new piece comes\n",
    "        print(i)\n",
    "        print(\"problem\")\n",
    "        print(bars[i+1])\n",
    "        print(bars[i])\n",
    "    totaldur = 0\n",
    "    for n in bars[i]:\n",
    "        totaldur += n[1]\n",
    "    if totaldur != 1:\n",
    "        print(\"duration problem\")\n",
    "        print(i)\n",
    "        print(bars[i])"
   ]
  }
 ],
 "metadata": {
  "kernelspec": {
   "display_name": "Python 3",
   "language": "python",
   "name": "python3"
  },
  "language_info": {
   "codemirror_mode": {
    "name": "ipython",
    "version": 3
   },
   "file_extension": ".py",
   "mimetype": "text/x-python",
   "name": "python",
   "nbconvert_exporter": "python",
   "pygments_lexer": "ipython3",
   "version": "3.6.8"
  }
 },
 "nbformat": 4,
 "nbformat_minor": 4
}
