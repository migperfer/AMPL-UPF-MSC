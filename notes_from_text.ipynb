{
 "cells": [
  {
   "cell_type": "code",
   "execution_count": 1,
   "metadata": {},
   "outputs": [],
   "source": [
    "import os"
   ]
  },
  {
   "cell_type": "code",
   "execution_count": 2,
   "metadata": {},
   "outputs": [],
   "source": [
    "usuldict = {'sofyan':0,'duyek':1,'raksaksagi':2,'cenber':3,'hafif':4,'devrikebir':5,'muhammes':6,'turkaksagi':7,'oynak':8,'havi':9,'aksak':10,'yuruksemai':11,'berefsan':12,'aksaksemai':13,'fahte':14,'semai':15,'cifteduyek':16,'evfer':17}"
   ]
  },
  {
   "cell_type": "code",
   "execution_count": 3,
   "metadata": {},
   "outputs": [],
   "source": [
    "# top 10 makams\n",
    "makamlist = ['hicaz','rast','nihavent','ussak','segah','huseyni','huzzam','mahur','kurdilihicazkar','muhayyer']\n",
    "makamdict = {makamlist[i]:i for i in range(len(makamlist))}"
   ]
  },
  {
   "cell_type": "code",
   "execution_count": 4,
   "metadata": {},
   "outputs": [
    {
     "data": {
      "text/plain": [
       "{'hicaz': 0,\n",
       " 'huseyni': 5,\n",
       " 'huzzam': 6,\n",
       " 'kurdilihicazkar': 8,\n",
       " 'mahur': 7,\n",
       " 'muhayyer': 9,\n",
       " 'nihavent': 2,\n",
       " 'rast': 1,\n",
       " 'segah': 4,\n",
       " 'ussak': 3}"
      ]
     },
     "execution_count": 4,
     "metadata": {},
     "output_type": "execute_result"
    }
   ],
   "source": [
    "makamdict"
   ]
  },
  {
   "cell_type": "code",
   "execution_count": 5,
   "metadata": {},
   "outputs": [],
   "source": [
    "rast = {'G': 1, 'A': 2, 'B':3,'C':4,'D':5,'E':6,'F':7,'Dom':'D5','Lead':'F4#'}\n",
    "huseyni = {'A': 1, 'B':2,'C':3,'D':4,'E':5,'F':6, 'G':7,'Dom':'E5','Lead':'G4'}\n",
    "muhayyer = {'A': 1, 'B':2,'C':3,'D':4,'E':5,'F':6, 'G':7,'Dom':'A5','sDom':'E5','Lead':'G4'}\n",
    "ussak = {'A': 1, 'B':2,'C':3,'D':4,'E':5,'F':6, 'G':7,'Dom':'D5','Lead':'G4'}\n",
    "hicaz = {'A': 1, 'B':2,'C':3,'D':4,'E':5,'F':6, 'G':7,'Dom':'D5','Lead':'G4'}\n",
    "huzzam = {'B':1,'C':2,'D':3,'E':4,'F':5, 'G':6,'A':7,'Dom':'D5','Lead':'A4#'}\n",
    "kurdilihicazkar = {'G': 1, 'A': 2, 'B':3,'C':4,'D':5,'E':6,'F':7,'Dom':'G5','Lead':'F4'} \n",
    "nihavent = {'G': 1, 'A': 2, 'B':3,'C':4,'D':5,'E':6,'F':7,'Dom':'D5','Lead':'F4#'}\n",
    "segah = {'B':1,'C':2,'D':3,'E':4,'F':5, 'G':6,'A':7,'Dom':'D5','Lead':'A4#'}\n",
    "mahur = {'G': 1, 'A': 2, 'B':3,'C':4,'D':5,'E':6,'F':7,'Dom':'G5','Lead':'F4#'}"
   ]
  },
  {
   "cell_type": "code",
   "execution_count": 8,
   "metadata": {},
   "outputs": [],
   "source": [
    "folder = 'SymbTr/txt/'\n",
    "allScores = os.listdir(folder)"
   ]
  },
  {
   "cell_type": "code",
   "execution_count": 9,
   "metadata": {},
   "outputs": [],
   "source": [
    "def getDegree(note,makam):\n",
    "    significance = None\n",
    "    degree = eval(makam)[note[0]]\n",
    "    if degree == 1:\n",
    "        significance = 'Tonic'\n",
    "    if note[:2] == eval(makam)['Dom']:\n",
    "        significance = 'Dominant'\n",
    "    if note[:2] == eval(makam)['Lead']:\n",
    "        significance = 'Leading'    \n",
    "    return degree,significance"
   ]
  },
  {
   "cell_type": "code",
   "execution_count": 18,
   "metadata": {},
   "outputs": [],
   "source": [
    "scorelist = [[]]\n",
    "for u in range(len(usuldict)):\n",
    "    scorelist.append([])\n",
    "    for m in range(len(makamdict)):\n",
    "        scorelist[u].append([])\n",
    "        \n",
    "for file in allScores:\n",
    "    mak,_,us = file.split('--')[:3]\n",
    "    if mak not in makamdict or us not in usuldict:\n",
    "        continue\n",
    "    with open(folder + file, encoding=\"utf8\") as scoretxt:\n",
    "        try:\n",
    "            txtlines = scoretxt.read().split('\\n')\n",
    "        except UnicodeDecodeError as e:\n",
    "            print(\"Error in file: %s\" % file)\n",
    "            print(str(e))\n",
    "    for i in range(2,len(txtlines)-1):\n",
    "        if int(txtlines[i].split('\\t')[1])==51: # possible usul change, leave the rest\n",
    "            break\n",
    "        if int(txtlines[i].split('\\t')[6])>0:\n",
    "            dur = int(txtlines[i].split('\\t')[6])/int(txtlines[i].split('\\t')[7])\n",
    "            name = txtlines[i].split('\\t')[3]\n",
    "            degree, significance = getDegree(name,mak)\n",
    "            offset = txtlines[i].split('\\t')[-1]     \n",
    "            scorelist[usuldict[us]][makamdict[mak]].append([offset,dur,name,degree,significance])\n",
    "                \n",
    "#           if len(scorelist[0][0]) == 1341:\n",
    "#               print(file)"
   ]
  },
  {
   "cell_type": "code",
   "execution_count": 19,
   "metadata": {},
   "outputs": [],
   "source": [
    "# everytime offset value of a note is an integer, that note is the end of the measure\n",
    "# this is an example of how to get bars for usul 'sofyan', makam 'hicaz'\n",
    "bars = []\n",
    "bar = []\n",
    "for i in range(len(scorelist[0][0])):\n",
    "    if (float(scorelist[0][0][i][0])).is_integer():\n",
    "        bar.append(scorelist[0][0][i])\n",
    "        bars.append(bar)\n",
    "        bar = []\n",
    "#         if len(bars)==187:\n",
    "#             print(i)\n",
    "    else:\n",
    "        bar.append(scorelist[0][0][i])\n"
   ]
  },
  {
   "cell_type": "code",
   "execution_count": 20,
   "metadata": {},
   "outputs": [
    {
     "data": {
      "text/plain": [
       "[['25.25', 0.25, 'A4', 1, 'Tonic'],\n",
       " ['25.5', 0.25, 'D5', 4, 'Dominant'],\n",
       " ['25.5625', 0.0625, 'E5', 5, None],\n",
       " ['25.625', 0.0625, 'D5', 4, 'Dominant'],\n",
       " ['25.6875', 0.0625, 'D5', 4, 'Dominant'],\n",
       " ['25.75', 0.0625, 'C5#4', 3, None],\n",
       " ['26.0', 0.25, 'D5', 4, 'Dominant']]"
      ]
     },
     "execution_count": 20,
     "metadata": {},
     "output_type": "execute_result"
    }
   ],
   "source": [
    "bars[25]"
   ]
  },
  {
   "cell_type": "code",
   "execution_count": 21,
   "metadata": {},
   "outputs": [
    {
     "name": "stdout",
     "output_type": "stream",
     "text": [
      "duration problem\n",
      "681\n",
      "[['53.0625', 0.0625, 'A4', 1, 'Tonic'], ['53.125', 0.0625, 'B4b4', 2, None], ['53.1875', 0.0625, 'C5#4', 3, None], ['53.25', 0.0625, 'D5', 4, 'Dominant'], ['53.3125', 0.0625, 'C5#4', 3, None], ['53.375', 0.0625, 'B4b4', 2, None], ['53.4375', 0.0625, 'A4', 1, 'Tonic'], ['53.5', 0.0625, 'B4b4', 2, None], ['53.625', 0.125, 'A4', 1, 'Tonic'], ['53.75', 0.125, 'Es', 5, None], ['0.125', 0.125, 'B4b4', 2, None], ['0.25', 0.125, 'C5#4', 3, None], ['0.375', 0.125, 'B4b4', 2, None], ['0.5', 0.125, 'C5#4', 3, None], ['0.625', 0.125, 'B4b4', 2, None], ['0.75', 0.125, 'C5#4', 3, None], ['0.875', 0.125, 'B4b4', 2, None], ['1.0', 0.125, 'A4', 1, 'Tonic']]\n"
     ]
    }
   ],
   "source": [
    "# run this for checking bars\n",
    "for i in range(len(bars)-1):\n",
    "    c = float(bars[i+1][-1][0])-float(bars[i][-1][0])\n",
    "    if c != 1 and c>0: # c=1 if next bar in list is actually the next bar, c<0 happens when new piece comes\n",
    "        print(i)\n",
    "        print(\"problem\")\n",
    "        print(bars[i+1])\n",
    "        print(bars[i])\n",
    "    totaldur = 0\n",
    "    for n in bars[i]:\n",
    "        totaldur += n[1]\n",
    "    if totaldur != 1:\n",
    "        print(\"duration problem\")\n",
    "        print(i)\n",
    "        print(bars[i])"
   ]
  }
 ],
 "metadata": {
  "kernelspec": {
   "display_name": "Python 3",
   "language": "python",
   "name": "python3"
  },
  "language_info": {
   "codemirror_mode": {
    "name": "ipython",
    "version": 3
   },
   "file_extension": ".py",
   "mimetype": "text/x-python",
   "name": "python",
   "nbconvert_exporter": "python",
   "pygments_lexer": "ipython3",
   "version": "3.7.1"
  }
 },
 "nbformat": 4,
 "nbformat_minor": 4
}
