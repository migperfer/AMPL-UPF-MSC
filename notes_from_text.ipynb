{
 "cells": [
  {
   "cell_type": "code",
   "execution_count": 1,
   "metadata": {},
   "outputs": [],
   "source": [
    "import os"
   ]
  },
  {
   "cell_type": "code",
   "execution_count": 2,
   "metadata": {},
   "outputs": [],
   "source": [
    "usuldict = {'sofyan':0,'duyek':1,'raksaksagi':2,'cenber':3,'hafif':4,'devrikebir':5,'muhammes':6,'turkaksagi':7,'oynak':8,'havi':9,'aksak':10,'yuruksemai':11,'berefsan':12,'aksaksemai':13,'fahte':14,'semai':15,'cifteduyek':16,'evfer':17}"
   ]
  },
  {
   "cell_type": "code",
   "execution_count": 3,
   "metadata": {},
   "outputs": [],
   "source": [
    "# top 10 makams\n",
    "makamlist = ['hicaz','rast','nihavent','ussak','segah','huseyni','huzzam','mahur','kurdilihicazkar','muhayyer']\n",
    "makamdict = {makamlist[i]:i for i in range(len(makamlist))}"
   ]
  },
  {
   "cell_type": "code",
   "execution_count": 4,
   "metadata": {},
   "outputs": [
    {
     "data": {
      "text/plain": [
       "{'hicaz': 0,\n",
       " 'rast': 1,\n",
       " 'nihavent': 2,\n",
       " 'ussak': 3,\n",
       " 'segah': 4,\n",
       " 'huseyni': 5,\n",
       " 'huzzam': 6,\n",
       " 'mahur': 7,\n",
       " 'kurdilihicazkar': 8,\n",
       " 'muhayyer': 9}"
      ]
     },
     "execution_count": 4,
     "metadata": {},
     "output_type": "execute_result"
    }
   ],
   "source": [
    "makamdict"
   ]
  },
  {
   "cell_type": "code",
   "execution_count": 5,
   "metadata": {},
   "outputs": [],
   "source": [
    "folder = 'SymbTr-master/txt/'\n",
    "allScores = os.listdir(folder)"
   ]
  },
  {
   "cell_type": "code",
   "execution_count": 6,
   "metadata": {},
   "outputs": [],
   "source": [
    "scorelist = [[]]\n",
    "for u in range(len(usuldict)):\n",
    "    scorelist.append([])\n",
    "    for m in range(len(makamdict)):\n",
    "        scorelist[u].append([])\n",
    "        \n",
    "for file in allScores:\n",
    "    mak,_,us = file.split('--')[:3]\n",
    "    if mak not in makamdict or us not in usuldict:\n",
    "        continue\n",
    "    with open(folder + file) as scoretxt:\n",
    "        txtlines = scoretxt.read().split('\\n')\n",
    "    for i in range(2,len(txtlines)-1):\n",
    "        if int(txtlines[i].split('\\t')[6])>0:\n",
    "            dur = int(txtlines[i].split('\\t')[6])/int(txtlines[i].split('\\t')[7])\n",
    "            name = txtlines[i].split('\\t')[3]\n",
    "            offset = txtlines[i].split('\\t')[-1]\n",
    "            scorelist[usuldict[us]][makamdict[mak]].append([offset,dur,name])    "
   ]
  },
  {
   "cell_type": "code",
   "execution_count": 7,
   "metadata": {},
   "outputs": [],
   "source": [
    "# everytime offset value of a note is an integer, that note is the end of the measure\n",
    "# this is an example of how to get bars for usul 'sofyan', makam 'hicaz'\n",
    "bars = []\n",
    "bar = []\n",
    "for i in range(len(scorelist[0][0])):\n",
    "    while(not (float(scorelist[0][0][i][0])/1).is_integer()):\n",
    "        bar.append(scorelist[0][0][i])\n",
    "        i += 1\n",
    "    bar.append(scorelist[0][0][i])\n",
    "    bars.append(bar)\n",
    "    bar = []"
   ]
  },
  {
   "cell_type": "code",
   "execution_count": 8,
   "metadata": {},
   "outputs": [
    {
     "data": {
      "text/plain": [
       "[['0.25', 0.25, 'Es'],\n",
       " ['0.375', 0.125, 'C5#4'],\n",
       " ['0.5', 0.125, 'D5'],\n",
       " ['0.75', 0.25, 'E5'],\n",
       " ['1.0', 0.25, 'A5']]"
      ]
     },
     "execution_count": 8,
     "metadata": {},
     "output_type": "execute_result"
    }
   ],
   "source": [
    "bars[0]"
   ]
  }
 ],
 "metadata": {
  "kernelspec": {
   "display_name": "Python 3",
   "language": "python",
   "name": "python3"
  },
  "language_info": {
   "codemirror_mode": {
    "name": "ipython",
    "version": 3
   },
   "file_extension": ".py",
   "mimetype": "text/x-python",
   "name": "python",
   "nbconvert_exporter": "python",
   "pygments_lexer": "ipython3",
   "version": "3.6.8"
  }
 },
 "nbformat": 4,
 "nbformat_minor": 4
}
